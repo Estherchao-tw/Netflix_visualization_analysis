{
 "cells": [
  {
   "cell_type": "markdown",
   "metadata": {},
   "source": [
    "# ERROR IN MySQL\n",
    "### csv匯入MySQL Workbench\n",
    "\n",
    "*ERROR:* unhandled exception: 'cp950' codec can't decode byte 0xe7 in position 0: illegal multibyte sequence<BR>\n",
    "\n",
    "*SOLUTION:* 先轉成ANSI編碼, 才能進入 column 對應選單, 完成匯入.\n",
    "\n",
    "### CSV IMPORT FROM MYSQL LINE\n",
    "\n",
    "*error* 1290 mysql\n",
    "\n",
    "shutdown...\n",
    "restart solution <br>\n",
    "find install files,check password ,\n",
    "'C:/ProgramData/MySQL/MySQL Server 8.0/Uploads/n\n",
    "\n",
    "# solution in tableau\n",
    "\n",
    "#### 要將資料先在tableau prep 清潔整理，再轉成hyper到tableau\n",
    "\n",
    "https://community.tableau.com/s/question/0D54T00000LR19vSAD/if-i-have-more-than-one-country-listed-in-a-cell-how-do-i-get-tableau-to-take-all-countries-listed-in-the-cell-into-consideration-when-doing-calculations"
   ]
  },
  {
   "cell_type": "code",
   "execution_count": null,
   "metadata": {
    "vscode": {
     "languageId": "plaintext"
    }
   },
   "outputs": [],
   "source": [
    "(@vshow_id,@vtype,@vtitle,@vdirector,@vcast,@vcountry,@vdate_added,@vrelease_year,@vrating,@vduration,@vlisted_in,@vdescription)\n",
    "\n",
    "SET\n",
    "show_id= NULLIF(@vshow_id,''),\n",
    "type= NULLIF(@vtype,''),\n",
    "title= NULLIF(@vtitle,''),\n",
    "director= NULLIF(@vdirector,''),\n",
    "cast= NULLIF(@vcast,''),\n",
    "country= NULLIF(@vcountry,''),\n",
    "date_added= NULLIF(@vdate_added,''),\n",
    "release_year= NULLIF(@vrelease_year,''),\n",
    "rating= NULLIF(@vrating,''),\n",
    "duration= NULLIF(@vduration,''),\n",
    "listed_in= NULLIF(@vlisted_in,''),\n",
    "description= NULLIF(@vdescription,'');"
   ]
  }
 ],
 "metadata": {
  "language_info": {
   "name": "python"
  },
  "orig_nbformat": 4
 },
 "nbformat": 4,
 "nbformat_minor": 2
}
